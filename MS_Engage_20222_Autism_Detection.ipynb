{
  "nbformat": 4,
  "nbformat_minor": 0,
  "metadata": {
    "colab": {
      "name": "MS Engage  20222 - Autism Detection.ipynb",
      "provenance": [],
      "collapsed_sections": [],
      "include_colab_link": true
    },
    "kernelspec": {
      "display_name": "Python 3",
      "language": "python",
      "name": "python3"
    },
    "language_info": {
      "codemirror_mode": {
        "name": "ipython",
        "version": 3
      },
      "file_extension": ".py",
      "mimetype": "text/x-python",
      "name": "python",
      "nbconvert_exporter": "python",
      "pygments_lexer": "ipython3",
      "version": "3.8.2"
    },
    "accelerator": "GPU"
  },
  "cells": [
    {
      "cell_type": "markdown",
      "metadata": {
        "id": "view-in-github",
        "colab_type": "text"
      },
      "source": [
        "<a href=\"https://colab.research.google.com/github/SUBASHREE1762/Microsoft_Engage_2022_Autism-Detection_using_VGG16/blob/main/MS_Engage_20222_Autism_Detection.ipynb\" target=\"_parent\"><img src=\"https://colab.research.google.com/assets/colab-badge.svg\" alt=\"Open In Colab\"/></a>"
      ]
    },
    {
      "cell_type": "markdown",
      "metadata": {
        "id": "FQYR4gPoB3yP"
      },
      "source": [
        "# Autism Detection from Facial Image using TensorFlow and VGG16\n",
        "\n",
        "Autism is a major developmental disease that affects a person's capacity to communicate and interact with others.\n",
        "\n",
        "Autism spectrum disorder affects the neural system, as well as the affected person's general cognitive, emotional, social, and physical health.\n",
        "\n",
        "Symptoms might vary greatly in scope and severity. Communication difficulties, social interaction difficulties, compulsive interests, and repeated behaviours are all common signs.\n",
        "\n",
        "Early detection, as well as behavioural, educational, and family therapy, may help to alleviate symptoms and promote growth and learning."
      ]
    },
    {
      "cell_type": "code",
      "metadata": {
        "colab": {
          "base_uri": "https://localhost:8080/"
        },
        "id": "NAQJKuTJl_0h",
        "outputId": "4dda7a3f-ce58-4e72-aa5d-31b50d087398"
      },
      "source": [
        "from google.colab import drive\n",
        "drive.mount('/content/drive')"
      ],
      "execution_count": null,
      "outputs": [
        {
          "output_type": "stream",
          "name": "stdout",
          "text": [
            "Mounted at /content/drive\n"
          ]
        }
      ]
    },
    {
      "cell_type": "code",
      "metadata": {
        "colab": {
          "base_uri": "https://localhost:8080/"
        },
        "id": "l0wVYr6AmCSp",
        "outputId": "2190c4ff-4430-4306-a710-acc1b4baa58c"
      },
      "source": [
        "import os\n",
        "print(os.listdir((\"/content/drive/My Drive/archive/AutismDataset\")))"
      ],
      "execution_count": null,
      "outputs": [
        {
          "output_type": "stream",
          "name": "stdout",
          "text": [
            "['train', 'consolidated', 'test', 'valid']\n"
          ]
        }
      ]
    },
    {
      "cell_type": "code",
      "metadata": {
        "id": "ko691tYsCxwf"
      },
      "source": [
        "import math\n",
        "import random\n",
        "import shutil\n",
        "\n",
        "import numpy as np\n",
        "import pandas as pd\n",
        "import matplotlib.pyplot as plt\n",
        "import seaborn as sn\n",
        "\n",
        "import tensorflow as tf\n",
        "from tensorflow import keras\n",
        "from tensorflow.keras import layers"
      ],
      "execution_count": null,
      "outputs": []
    },
    {
      "cell_type": "code",
      "metadata": {
        "colab": {
          "base_uri": "https://localhost:8080/"
        },
        "id": "JKKpTQq9K9UI",
        "outputId": "e126ad5c-0048-403e-84d7-8ff43d29bdf4"
      },
      "source": [
        "vgg_model = tf.keras.applications.vgg16.VGG16()\n",
        "print(type(vgg_model))\n",
        "vgg_model.summary()"
      ],
      "execution_count": null,
      "outputs": [
        {
          "output_type": "stream",
          "name": "stdout",
          "text": [
            "Downloading data from https://storage.googleapis.com/tensorflow/keras-applications/vgg16/vgg16_weights_tf_dim_ordering_tf_kernels.h5\n",
            "553467904/553467096 [==============================] - 3s 0us/step\n",
            "553476096/553467096 [==============================] - 3s 0us/step\n",
            "<class 'keras.engine.functional.Functional'>\n",
            "Model: \"vgg16\"\n",
            "_________________________________________________________________\n",
            " Layer (type)                Output Shape              Param #   \n",
            "=================================================================\n",
            " input_1 (InputLayer)        [(None, 224, 224, 3)]     0         \n",
            "                                                                 \n",
            " block1_conv1 (Conv2D)       (None, 224, 224, 64)      1792      \n",
            "                                                                 \n",
            " block1_conv2 (Conv2D)       (None, 224, 224, 64)      36928     \n",
            "                                                                 \n",
            " block1_pool (MaxPooling2D)  (None, 112, 112, 64)      0         \n",
            "                                                                 \n",
            " block2_conv1 (Conv2D)       (None, 112, 112, 128)     73856     \n",
            "                                                                 \n",
            " block2_conv2 (Conv2D)       (None, 112, 112, 128)     147584    \n",
            "                                                                 \n",
            " block2_pool (MaxPooling2D)  (None, 56, 56, 128)       0         \n",
            "                                                                 \n",
            " block3_conv1 (Conv2D)       (None, 56, 56, 256)       295168    \n",
            "                                                                 \n",
            " block3_conv2 (Conv2D)       (None, 56, 56, 256)       590080    \n",
            "                                                                 \n",
            " block3_conv3 (Conv2D)       (None, 56, 56, 256)       590080    \n",
            "                                                                 \n",
            " block3_pool (MaxPooling2D)  (None, 28, 28, 256)       0         \n",
            "                                                                 \n",
            " block4_conv1 (Conv2D)       (None, 28, 28, 512)       1180160   \n",
            "                                                                 \n",
            " block4_conv2 (Conv2D)       (None, 28, 28, 512)       2359808   \n",
            "                                                                 \n",
            " block4_conv3 (Conv2D)       (None, 28, 28, 512)       2359808   \n",
            "                                                                 \n",
            " block4_pool (MaxPooling2D)  (None, 14, 14, 512)       0         \n",
            "                                                                 \n",
            " block5_conv1 (Conv2D)       (None, 14, 14, 512)       2359808   \n",
            "                                                                 \n",
            " block5_conv2 (Conv2D)       (None, 14, 14, 512)       2359808   \n",
            "                                                                 \n",
            " block5_conv3 (Conv2D)       (None, 14, 14, 512)       2359808   \n",
            "                                                                 \n",
            " block5_pool (MaxPooling2D)  (None, 7, 7, 512)         0         \n",
            "                                                                 \n",
            " flatten (Flatten)           (None, 25088)             0         \n",
            "                                                                 \n",
            " fc1 (Dense)                 (None, 4096)              102764544 \n",
            "                                                                 \n",
            " fc2 (Dense)                 (None, 4096)              16781312  \n",
            "                                                                 \n",
            " predictions (Dense)         (None, 1000)              4097000   \n",
            "                                                                 \n",
            "=================================================================\n",
            "Total params: 138,357,544\n",
            "Trainable params: 138,357,544\n",
            "Non-trainable params: 0\n",
            "_________________________________________________________________\n"
          ]
        }
      ]
    },
    {
      "cell_type": "code",
      "metadata": {
        "id": "2Db4ak4_LBDj"
      },
      "source": [
        "model = keras.models.Sequential()\n",
        "for layer in vgg_model.layers[0:-1]:\n",
        "    model.add(layer)"
      ],
      "execution_count": null,
      "outputs": []
    },
    {
      "cell_type": "code",
      "metadata": {
        "colab": {
          "base_uri": "https://localhost:8080/"
        },
        "id": "ggSwjDXNLGdV",
        "outputId": "df10d1fa-07a9-4a03-91d1-9f01c71e8f31"
      },
      "source": [
        "model.summary()"
      ],
      "execution_count": null,
      "outputs": [
        {
          "output_type": "stream",
          "name": "stdout",
          "text": [
            "Model: \"sequential\"\n",
            "_________________________________________________________________\n",
            " Layer (type)                Output Shape              Param #   \n",
            "=================================================================\n",
            " block1_conv1 (Conv2D)       (None, 224, 224, 64)      1792      \n",
            "                                                                 \n",
            " block1_conv2 (Conv2D)       (None, 224, 224, 64)      36928     \n",
            "                                                                 \n",
            " block1_pool (MaxPooling2D)  (None, 112, 112, 64)      0         \n",
            "                                                                 \n",
            " block2_conv1 (Conv2D)       (None, 112, 112, 128)     73856     \n",
            "                                                                 \n",
            " block2_conv2 (Conv2D)       (None, 112, 112, 128)     147584    \n",
            "                                                                 \n",
            " block2_pool (MaxPooling2D)  (None, 56, 56, 128)       0         \n",
            "                                                                 \n",
            " block3_conv1 (Conv2D)       (None, 56, 56, 256)       295168    \n",
            "                                                                 \n",
            " block3_conv2 (Conv2D)       (None, 56, 56, 256)       590080    \n",
            "                                                                 \n",
            " block3_conv3 (Conv2D)       (None, 56, 56, 256)       590080    \n",
            "                                                                 \n",
            " block3_pool (MaxPooling2D)  (None, 28, 28, 256)       0         \n",
            "                                                                 \n",
            " block4_conv1 (Conv2D)       (None, 28, 28, 512)       1180160   \n",
            "                                                                 \n",
            " block4_conv2 (Conv2D)       (None, 28, 28, 512)       2359808   \n",
            "                                                                 \n",
            " block4_conv3 (Conv2D)       (None, 28, 28, 512)       2359808   \n",
            "                                                                 \n",
            " block4_pool (MaxPooling2D)  (None, 14, 14, 512)       0         \n",
            "                                                                 \n",
            " block5_conv1 (Conv2D)       (None, 14, 14, 512)       2359808   \n",
            "                                                                 \n",
            " block5_conv2 (Conv2D)       (None, 14, 14, 512)       2359808   \n",
            "                                                                 \n",
            " block5_conv3 (Conv2D)       (None, 14, 14, 512)       2359808   \n",
            "                                                                 \n",
            " block5_pool (MaxPooling2D)  (None, 7, 7, 512)         0         \n",
            "                                                                 \n",
            " flatten (Flatten)           (None, 25088)             0         \n",
            "                                                                 \n",
            " fc1 (Dense)                 (None, 4096)              102764544 \n",
            "                                                                 \n",
            " fc2 (Dense)                 (None, 4096)              16781312  \n",
            "                                                                 \n",
            "=================================================================\n",
            "Total params: 134,260,544\n",
            "Trainable params: 134,260,544\n",
            "Non-trainable params: 0\n",
            "_________________________________________________________________\n"
          ]
        }
      ]
    },
    {
      "cell_type": "code",
      "metadata": {
        "colab": {
          "base_uri": "https://localhost:8080/"
        },
        "id": "T-s5OfrALGN7",
        "outputId": "88a97711-96f4-4f14-d9e4-36827482ad4d"
      },
      "source": [
        "for layer in model.layers:\n",
        "    layer.trainable = False\n",
        "model.summary()"
      ],
      "execution_count": null,
      "outputs": [
        {
          "output_type": "stream",
          "name": "stdout",
          "text": [
            "Model: \"sequential\"\n",
            "_________________________________________________________________\n",
            " Layer (type)                Output Shape              Param #   \n",
            "=================================================================\n",
            " block1_conv1 (Conv2D)       (None, 224, 224, 64)      1792      \n",
            "                                                                 \n",
            " block1_conv2 (Conv2D)       (None, 224, 224, 64)      36928     \n",
            "                                                                 \n",
            " block1_pool (MaxPooling2D)  (None, 112, 112, 64)      0         \n",
            "                                                                 \n",
            " block2_conv1 (Conv2D)       (None, 112, 112, 128)     73856     \n",
            "                                                                 \n",
            " block2_conv2 (Conv2D)       (None, 112, 112, 128)     147584    \n",
            "                                                                 \n",
            " block2_pool (MaxPooling2D)  (None, 56, 56, 128)       0         \n",
            "                                                                 \n",
            " block3_conv1 (Conv2D)       (None, 56, 56, 256)       295168    \n",
            "                                                                 \n",
            " block3_conv2 (Conv2D)       (None, 56, 56, 256)       590080    \n",
            "                                                                 \n",
            " block3_conv3 (Conv2D)       (None, 56, 56, 256)       590080    \n",
            "                                                                 \n",
            " block3_pool (MaxPooling2D)  (None, 28, 28, 256)       0         \n",
            "                                                                 \n",
            " block4_conv1 (Conv2D)       (None, 28, 28, 512)       1180160   \n",
            "                                                                 \n",
            " block4_conv2 (Conv2D)       (None, 28, 28, 512)       2359808   \n",
            "                                                                 \n",
            " block4_conv3 (Conv2D)       (None, 28, 28, 512)       2359808   \n",
            "                                                                 \n",
            " block4_pool (MaxPooling2D)  (None, 14, 14, 512)       0         \n",
            "                                                                 \n",
            " block5_conv1 (Conv2D)       (None, 14, 14, 512)       2359808   \n",
            "                                                                 \n",
            " block5_conv2 (Conv2D)       (None, 14, 14, 512)       2359808   \n",
            "                                                                 \n",
            " block5_conv3 (Conv2D)       (None, 14, 14, 512)       2359808   \n",
            "                                                                 \n",
            " block5_pool (MaxPooling2D)  (None, 7, 7, 512)         0         \n",
            "                                                                 \n",
            " flatten (Flatten)           (None, 25088)             0         \n",
            "                                                                 \n",
            " fc1 (Dense)                 (None, 4096)              102764544 \n",
            "                                                                 \n",
            " fc2 (Dense)                 (None, 4096)              16781312  \n",
            "                                                                 \n",
            "=================================================================\n",
            "Total params: 134,260,544\n",
            "Trainable params: 0\n",
            "Non-trainable params: 134,260,544\n",
            "_________________________________________________________________\n"
          ]
        }
      ]
    },
    {
      "cell_type": "code",
      "metadata": {
        "id": "XdEfreRwLF0y"
      },
      "source": [
        "model.add(layers.Dense(1))"
      ],
      "execution_count": null,
      "outputs": []
    },
    {
      "cell_type": "code",
      "metadata": {
        "id": "cCst-9MdLSQ4"
      },
      "source": [
        "loss = keras.losses.BinaryCrossentropy(from_logits=True)\n",
        "optim = keras.optimizers.Adam(learning_rate=0.001)\n",
        "metrics = [\"accuracy\"]\n",
        "\n",
        "model.compile(optimizer=optim, loss=loss, metrics=metrics)"
      ],
      "execution_count": null,
      "outputs": []
    },
    {
      "cell_type": "code",
      "metadata": {
        "id": "l1X74eDxLp9F"
      },
      "source": [
        "preprocess_input = tf.keras.applications.vgg16.preprocess_input"
      ],
      "execution_count": null,
      "outputs": []
    },
    {
      "cell_type": "code",
      "metadata": {
        "colab": {
          "base_uri": "https://localhost:8080/"
        },
        "id": "Hinm6F_OLvzl",
        "outputId": "98a76096-d13e-4a98-99af-f29ab6b278ef"
      },
      "source": [
        "train_dir=os.getcwd()+'/drive/My Drive/archive/AutismDataset/TrainingData'\n",
        "validation_dir=os.getcwd()+'/drive/My Drive/archive/AutismDataset/valid'\n",
        "\n",
        "train_gen = keras.preprocessing.image.ImageDataGenerator(preprocessing_function=preprocess_input)\n",
        "valid_gen = keras.preprocessing.image.ImageDataGenerator(preprocessing_function=preprocess_input)\n",
        "\n",
        "train_batches = valid_gen.flow_from_directory(\n",
        "    train_dir,\n",
        "    target_size=(224, 224),\n",
        "    class_mode='binary',\n",
        "    batch_size=25,\n",
        "    shuffle=True,\n",
        "    color_mode=\"rgb\", \n",
        ")\n",
        "\n",
        "val_batches = valid_gen.flow_from_directory(\n",
        "    validation_dir,\n",
        "    target_size=(224, 224),\n",
        "    class_mode='binary',\n",
        "    batch_size=25,\n",
        "    shuffle=True,\n",
        "    color_mode=\"rgb\",\n",
        ")\n"
      ],
      "execution_count": null,
      "outputs": [
        {
          "output_type": "stream",
          "name": "stdout",
          "text": [
            "Found 100 images belonging to 2 classes.\n",
            "Found 100 images belonging to 2 classes.\n"
          ]
        }
      ]
    },
    {
      "cell_type": "code",
      "metadata": {
        "colab": {
          "base_uri": "https://localhost:8080/"
        },
        "id": "nNzhrfFTMiB3",
        "outputId": "18b777f8-7cae-4d68-87cc-8e2d9a8e6d25"
      },
      "source": [
        "epochs = 25\n",
        "\n",
        "early_stopping = keras.callbacks.EarlyStopping(\n",
        "    monitor=\"val_loss\",\n",
        "    patience=5,\n",
        "    verbose=2\n",
        ")\n",
        " \n",
        "history = model.fit(train_batches, validation_data=val_batches,callbacks=[early_stopping],epochs=epochs, verbose=1)\n",
        "model.save(\"my_model\")"
      ],
      "execution_count": null,
      "outputs": [
        {
          "output_type": "stream",
          "name": "stdout",
          "text": [
            "Epoch 1/25\n",
            "4/4 [==============================] - 40s 9s/step - loss: 0.1913 - accuracy: 0.9300 - val_loss: 0.1787 - val_accuracy: 0.9400\n",
            "Epoch 2/25\n",
            "4/4 [==============================] - 1s 401ms/step - loss: 0.1732 - accuracy: 0.9400 - val_loss: 0.1661 - val_accuracy: 0.9700\n",
            "Epoch 3/25\n",
            "4/4 [==============================] - 1s 399ms/step - loss: 0.1636 - accuracy: 0.9700 - val_loss: 0.1545 - val_accuracy: 0.9700\n",
            "Epoch 4/25\n",
            "4/4 [==============================] - 1s 404ms/step - loss: 0.1546 - accuracy: 0.9600 - val_loss: 0.1438 - val_accuracy: 0.9600\n",
            "Epoch 5/25\n",
            "4/4 [==============================] - 1s 402ms/step - loss: 0.1419 - accuracy: 0.9700 - val_loss: 0.1347 - val_accuracy: 0.9800\n",
            "Epoch 6/25\n",
            "4/4 [==============================] - 1s 403ms/step - loss: 0.1363 - accuracy: 0.9800 - val_loss: 0.1273 - val_accuracy: 0.9800\n",
            "Epoch 7/25\n",
            "4/4 [==============================] - 1s 408ms/step - loss: 0.1242 - accuracy: 0.9800 - val_loss: 0.1197 - val_accuracy: 0.9900\n",
            "Epoch 8/25\n",
            "4/4 [==============================] - 1s 389ms/step - loss: 0.1191 - accuracy: 0.9700 - val_loss: 0.1128 - val_accuracy: 0.9900\n",
            "Epoch 9/25\n",
            "4/4 [==============================] - 1s 405ms/step - loss: 0.1115 - accuracy: 1.0000 - val_loss: 0.1059 - val_accuracy: 1.0000\n",
            "Epoch 10/25\n",
            "4/4 [==============================] - 1s 400ms/step - loss: 0.1054 - accuracy: 1.0000 - val_loss: 0.0999 - val_accuracy: 1.0000\n",
            "Epoch 11/25\n",
            "4/4 [==============================] - 1s 403ms/step - loss: 0.0996 - accuracy: 1.0000 - val_loss: 0.0950 - val_accuracy: 1.0000\n",
            "Epoch 12/25\n",
            "4/4 [==============================] - 1s 412ms/step - loss: 0.0937 - accuracy: 1.0000 - val_loss: 0.0895 - val_accuracy: 1.0000\n",
            "Epoch 13/25\n",
            "4/4 [==============================] - 1s 386ms/step - loss: 0.0884 - accuracy: 1.0000 - val_loss: 0.0850 - val_accuracy: 1.0000\n",
            "Epoch 14/25\n",
            "4/4 [==============================] - 1s 394ms/step - loss: 0.0850 - accuracy: 1.0000 - val_loss: 0.0812 - val_accuracy: 1.0000\n",
            "Epoch 15/25\n",
            "4/4 [==============================] - 1s 395ms/step - loss: 0.0803 - accuracy: 1.0000 - val_loss: 0.0770 - val_accuracy: 1.0000\n",
            "Epoch 16/25\n",
            "4/4 [==============================] - 1s 389ms/step - loss: 0.0769 - accuracy: 1.0000 - val_loss: 0.0736 - val_accuracy: 1.0000\n",
            "Epoch 17/25\n",
            "4/4 [==============================] - 1s 398ms/step - loss: 0.0732 - accuracy: 1.0000 - val_loss: 0.0701 - val_accuracy: 1.0000\n",
            "Epoch 18/25\n",
            "4/4 [==============================] - 1s 414ms/step - loss: 0.0696 - accuracy: 1.0000 - val_loss: 0.0669 - val_accuracy: 1.0000\n",
            "Epoch 19/25\n",
            "4/4 [==============================] - 1s 402ms/step - loss: 0.0662 - accuracy: 1.0000 - val_loss: 0.0640 - val_accuracy: 1.0000\n",
            "Epoch 20/25\n",
            "4/4 [==============================] - 1s 403ms/step - loss: 0.0633 - accuracy: 1.0000 - val_loss: 0.0613 - val_accuracy: 1.0000\n",
            "Epoch 21/25\n",
            "4/4 [==============================] - 1s 396ms/step - loss: 0.0609 - accuracy: 1.0000 - val_loss: 0.0587 - val_accuracy: 1.0000\n",
            "Epoch 22/25\n",
            "4/4 [==============================] - 1s 409ms/step - loss: 0.0585 - accuracy: 1.0000 - val_loss: 0.0564 - val_accuracy: 1.0000\n",
            "Epoch 23/25\n",
            "4/4 [==============================] - 1s 398ms/step - loss: 0.0557 - accuracy: 1.0000 - val_loss: 0.0541 - val_accuracy: 1.0000\n",
            "Epoch 24/25\n",
            "4/4 [==============================] - 1s 409ms/step - loss: 0.0540 - accuracy: 1.0000 - val_loss: 0.0522 - val_accuracy: 1.0000\n",
            "Epoch 25/25\n",
            "4/4 [==============================] - 1s 401ms/step - loss: 0.0524 - accuracy: 1.0000 - val_loss: 0.0503 - val_accuracy: 1.0000\n",
            "INFO:tensorflow:Assets written to: my_model/assets\n"
          ]
        }
      ]
    },
    {
      "cell_type": "code",
      "metadata": {
        "id": "r-Y0tE1u-u8U",
        "colab": {
          "base_uri": "https://localhost:8080/"
        },
        "outputId": "01810025-e84e-460a-cc4f-9d3058682afe"
      },
      "source": [
        "test_dir=os.getcwd()+'/drive/My Drive/archive/AutismDataset/consolidated'\n",
        "test_gen = keras.preprocessing.image.ImageDataGenerator(preprocessing_function=preprocess_input)\n",
        "\n",
        "test_batches = test_gen.flow_from_directory(\n",
        "    test_dir,\n",
        "    target_size=(224, 224),\n",
        "    class_mode='sparse',\n",
        "    batch_size=4,\n",
        "    shuffle=False,\n",
        "    color_mode=\"rgb\",\n",
        ")"
      ],
      "execution_count": null,
      "outputs": [
        {
          "output_type": "stream",
          "name": "stdout",
          "text": [
            "Found 1763 images belonging to 2 classes.\n"
          ]
        }
      ]
    },
    {
      "cell_type": "code",
      "metadata": {
        "id": "F1P-9v5uC66p",
        "colab": {
          "base_uri": "https://localhost:8080/"
        },
        "outputId": "7fc05754-4a8b-4972-ac61-bc043a5e2b51"
      },
      "source": [
        "model.evaluate(test_batches, verbose=2)"
      ],
      "execution_count": null,
      "outputs": [
        {
          "output_type": "stream",
          "name": "stdout",
          "text": [
            "441/441 - 485s - loss: 0.7177 - accuracy: 0.7079 - 485s/epoch - 1s/step\n"
          ]
        },
        {
          "output_type": "execute_result",
          "data": {
            "text/plain": [
              "[0.7176540493965149, 0.7078843116760254]"
            ]
          },
          "metadata": {},
          "execution_count": 31
        }
      ]
    },
    {
      "cell_type": "code",
      "metadata": {
        "id": "VMgylb9bM75M",
        "colab": {
          "base_uri": "https://localhost:8080/",
          "height": 545
        },
        "outputId": "45d6dd20-9608-4583-e288-5a019bd42b8c"
      },
      "source": [
        "import matplotlib.pyplot as plt\n",
        "\n",
        "acc = history.history['accuracy']\n",
        "val_acc = history.history['val_accuracy']\n",
        "loss = history.history['loss']\n",
        "val_loss = history.history['val_loss']\n",
        "\n",
        "epochs = range(len(acc))\n",
        "\n",
        "plt.plot(epochs, acc, 'r', label='Training accuracy')\n",
        "plt.plot(epochs, val_acc, 'b', label='Validation accuracy')\n",
        "plt.title('Training and validation accuracy')\n",
        "plt.legend()\n",
        "plt.figure()\n",
        "\n",
        "plt.plot(epochs, loss, 'r', label='Training Loss')\n",
        "plt.plot(epochs, val_loss, 'b', label='Validation Loss')\n",
        "plt.title('Training and validation loss')\n",
        "plt.legend()\n",
        "\n",
        "plt.show()"
      ],
      "execution_count": null,
      "outputs": [
        {
          "output_type": "display_data",
          "data": {
            "text/plain": [
              "<Figure size 432x288 with 1 Axes>"
            ],
            "image/png": "[encoded data removed]"
          },
          "metadata": {
            "needs_background": "light"
          }
        },
        {
          "output_type": "display_data",
          "data": {
            "text/plain": [
              "<Figure size 432x288 with 1 Axes>"
            ],
            "image/png": "[encoded data removed]"
          },
          "metadata": {
            "needs_background": "light"
          }
        }
      ]
    }
  ]
}